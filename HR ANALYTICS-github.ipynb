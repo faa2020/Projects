{
 "cells": [
  {
   "cell_type": "markdown",
   "metadata": {},
   "source": [
    "# JOB CHANGE OF DATA SCIENTISTS"
   ]
  },
  {
   "cell_type": "code",
   "execution_count": 1,
   "metadata": {},
   "outputs": [],
   "source": [
    "import numpy as np\n",
    "import pandas as pd\n",
    "import matplotlib.pyplot as plt\n",
    "import seaborn as sns\n",
    "\n",
    "# Pipeline and column transformer\n",
    "from sklearn.pipeline import Pipeline\n",
    "from sklearn.pipeline import make_pipeline\n",
    "from sklearn.compose import ColumnTransformer\n",
    "from sklearn.compose import make_column_transformer\n",
    "\n",
    "# Data transformers\n",
    "from sklearn.impute import SimpleImputer\n",
    "from sklearn.preprocessing import OneHotEncoder\n",
    "from sklearn.preprocessing import StandardScaler\n",
    "from sklearn.preprocessing import MinMaxScaler\n",
    "from sklearn.decomposition import PCA\n",
    "from sklearn.discriminant_analysis import LinearDiscriminantAnalysis as LDA\n",
    "\n",
    "\n",
    "# Data splitter and model evaluator\n",
    "from sklearn.model_selection import train_test_split\n",
    "from sklearn.model_selection import validation_curve\n",
    "\n",
    "\n",
    "from sklearn.metrics import classification_report, confusion_matrix, roc_auc_score,roc_curve,auc\n",
    "from sklearn.model_selection import train_test_split,cross_val_score,GridSearchCV\n",
    "\n",
    "# Learning models (use one of them or any other model)\n",
    "from sklearn.linear_model import LinearRegression\n",
    "from sklearn.linear_model import Ridge\n",
    "from sklearn.linear_model import Lasso\n",
    "from sklearn.linear_model import LogisticRegression\n",
    "from sklearn.svm import SVC\n",
    "from sklearn.tree import DecisionTreeClassifier\n",
    "from sklearn.neighbors import KNeighborsClassifier\n",
    "from sklearn.ensemble import RandomForestClassifier\n",
    "\n",
    "# Ensemble learning models\n",
    "from sklearn.ensemble import BaggingClassifier, BaggingRegressor, GradientBoostingClassifier, GradientBoostingRegressor\n",
    "\n",
    "# Pipeline and column transformer\n",
    "from sklearn.pipeline import Pipeline\n",
    "from sklearn.pipeline import make_pipeline\n",
    "from sklearn.compose import ColumnTransformer\n",
    "from sklearn.compose import make_column_transformer\n",
    "\n",
    "# Performance metrics\n",
    "from sklearn.metrics import log_loss, roc_auc_score, auc\n",
    "from sklearn.metrics import confusion_matrix\n",
    "from sklearn.metrics import precision_score, recall_score\n",
    "from sklearn.model_selection import cross_val_predict"
   ]
  },
  {
   "cell_type": "code",
   "execution_count": 2,
   "metadata": {},
   "outputs": [
    {
     "data": {
      "text/plain": [
       "'C:\\\\Users\\\\Maui\\\\Desktop'"
      ]
     },
     "execution_count": 2,
     "metadata": {},
     "output_type": "execute_result"
    }
   ],
   "source": [
    "import os\n",
    "os.getcwd()"
   ]
  },
  {
   "cell_type": "code",
   "execution_count": 3,
   "metadata": {},
   "outputs": [],
   "source": [
    "df_train = pd.read_csv('aug_train.csv')"
   ]
  },
  {
   "cell_type": "code",
   "execution_count": 4,
   "metadata": {},
   "outputs": [
    {
     "data": {
      "text/html": [
       "<div>\n",
       "<style scoped>\n",
       "    .dataframe tbody tr th:only-of-type {\n",
       "        vertical-align: middle;\n",
       "    }\n",
       "\n",
       "    .dataframe tbody tr th {\n",
       "        vertical-align: top;\n",
       "    }\n",
       "\n",
       "    .dataframe thead th {\n",
       "        text-align: right;\n",
       "    }\n",
       "</style>\n",
       "<table border=\"1\" class=\"dataframe\">\n",
       "  <thead>\n",
       "    <tr style=\"text-align: right;\">\n",
       "      <th></th>\n",
       "      <th>enrollee_id</th>\n",
       "      <th>city</th>\n",
       "      <th>city_development_index</th>\n",
       "      <th>gender</th>\n",
       "      <th>relevent_experience</th>\n",
       "      <th>enrolled_university</th>\n",
       "      <th>education_level</th>\n",
       "      <th>major_discipline</th>\n",
       "      <th>experience</th>\n",
       "      <th>company_size</th>\n",
       "      <th>company_type</th>\n",
       "      <th>last_new_job</th>\n",
       "      <th>training_hours</th>\n",
       "      <th>target</th>\n",
       "    </tr>\n",
       "  </thead>\n",
       "  <tbody>\n",
       "    <tr>\n",
       "      <td>0</td>\n",
       "      <td>8949</td>\n",
       "      <td>city_103</td>\n",
       "      <td>0.920</td>\n",
       "      <td>Male</td>\n",
       "      <td>Has relevent experience</td>\n",
       "      <td>no_enrollment</td>\n",
       "      <td>Graduate</td>\n",
       "      <td>STEM</td>\n",
       "      <td>&gt;20</td>\n",
       "      <td>NaN</td>\n",
       "      <td>NaN</td>\n",
       "      <td>1</td>\n",
       "      <td>36</td>\n",
       "      <td>1.0</td>\n",
       "    </tr>\n",
       "    <tr>\n",
       "      <td>1</td>\n",
       "      <td>29725</td>\n",
       "      <td>city_40</td>\n",
       "      <td>0.776</td>\n",
       "      <td>Male</td>\n",
       "      <td>No relevent experience</td>\n",
       "      <td>no_enrollment</td>\n",
       "      <td>Graduate</td>\n",
       "      <td>STEM</td>\n",
       "      <td>15</td>\n",
       "      <td>50-99</td>\n",
       "      <td>Pvt Ltd</td>\n",
       "      <td>&gt;4</td>\n",
       "      <td>47</td>\n",
       "      <td>0.0</td>\n",
       "    </tr>\n",
       "    <tr>\n",
       "      <td>2</td>\n",
       "      <td>11561</td>\n",
       "      <td>city_21</td>\n",
       "      <td>0.624</td>\n",
       "      <td>NaN</td>\n",
       "      <td>No relevent experience</td>\n",
       "      <td>Full time course</td>\n",
       "      <td>Graduate</td>\n",
       "      <td>STEM</td>\n",
       "      <td>5</td>\n",
       "      <td>NaN</td>\n",
       "      <td>NaN</td>\n",
       "      <td>never</td>\n",
       "      <td>83</td>\n",
       "      <td>0.0</td>\n",
       "    </tr>\n",
       "    <tr>\n",
       "      <td>3</td>\n",
       "      <td>33241</td>\n",
       "      <td>city_115</td>\n",
       "      <td>0.789</td>\n",
       "      <td>NaN</td>\n",
       "      <td>No relevent experience</td>\n",
       "      <td>NaN</td>\n",
       "      <td>Graduate</td>\n",
       "      <td>Business Degree</td>\n",
       "      <td>&lt;1</td>\n",
       "      <td>NaN</td>\n",
       "      <td>Pvt Ltd</td>\n",
       "      <td>never</td>\n",
       "      <td>52</td>\n",
       "      <td>1.0</td>\n",
       "    </tr>\n",
       "    <tr>\n",
       "      <td>4</td>\n",
       "      <td>666</td>\n",
       "      <td>city_162</td>\n",
       "      <td>0.767</td>\n",
       "      <td>Male</td>\n",
       "      <td>Has relevent experience</td>\n",
       "      <td>no_enrollment</td>\n",
       "      <td>Masters</td>\n",
       "      <td>STEM</td>\n",
       "      <td>&gt;20</td>\n",
       "      <td>50-99</td>\n",
       "      <td>Funded Startup</td>\n",
       "      <td>4</td>\n",
       "      <td>8</td>\n",
       "      <td>0.0</td>\n",
       "    </tr>\n",
       "    <tr>\n",
       "      <td>...</td>\n",
       "      <td>...</td>\n",
       "      <td>...</td>\n",
       "      <td>...</td>\n",
       "      <td>...</td>\n",
       "      <td>...</td>\n",
       "      <td>...</td>\n",
       "      <td>...</td>\n",
       "      <td>...</td>\n",
       "      <td>...</td>\n",
       "      <td>...</td>\n",
       "      <td>...</td>\n",
       "      <td>...</td>\n",
       "      <td>...</td>\n",
       "      <td>...</td>\n",
       "    </tr>\n",
       "    <tr>\n",
       "      <td>19153</td>\n",
       "      <td>7386</td>\n",
       "      <td>city_173</td>\n",
       "      <td>0.878</td>\n",
       "      <td>Male</td>\n",
       "      <td>No relevent experience</td>\n",
       "      <td>no_enrollment</td>\n",
       "      <td>Graduate</td>\n",
       "      <td>Humanities</td>\n",
       "      <td>14</td>\n",
       "      <td>NaN</td>\n",
       "      <td>NaN</td>\n",
       "      <td>1</td>\n",
       "      <td>42</td>\n",
       "      <td>1.0</td>\n",
       "    </tr>\n",
       "    <tr>\n",
       "      <td>19154</td>\n",
       "      <td>31398</td>\n",
       "      <td>city_103</td>\n",
       "      <td>0.920</td>\n",
       "      <td>Male</td>\n",
       "      <td>Has relevent experience</td>\n",
       "      <td>no_enrollment</td>\n",
       "      <td>Graduate</td>\n",
       "      <td>STEM</td>\n",
       "      <td>14</td>\n",
       "      <td>NaN</td>\n",
       "      <td>NaN</td>\n",
       "      <td>4</td>\n",
       "      <td>52</td>\n",
       "      <td>1.0</td>\n",
       "    </tr>\n",
       "    <tr>\n",
       "      <td>19155</td>\n",
       "      <td>24576</td>\n",
       "      <td>city_103</td>\n",
       "      <td>0.920</td>\n",
       "      <td>Male</td>\n",
       "      <td>Has relevent experience</td>\n",
       "      <td>no_enrollment</td>\n",
       "      <td>Graduate</td>\n",
       "      <td>STEM</td>\n",
       "      <td>&gt;20</td>\n",
       "      <td>50-99</td>\n",
       "      <td>Pvt Ltd</td>\n",
       "      <td>4</td>\n",
       "      <td>44</td>\n",
       "      <td>0.0</td>\n",
       "    </tr>\n",
       "    <tr>\n",
       "      <td>19156</td>\n",
       "      <td>5756</td>\n",
       "      <td>city_65</td>\n",
       "      <td>0.802</td>\n",
       "      <td>Male</td>\n",
       "      <td>Has relevent experience</td>\n",
       "      <td>no_enrollment</td>\n",
       "      <td>High School</td>\n",
       "      <td>NaN</td>\n",
       "      <td>&lt;1</td>\n",
       "      <td>500-999</td>\n",
       "      <td>Pvt Ltd</td>\n",
       "      <td>2</td>\n",
       "      <td>97</td>\n",
       "      <td>0.0</td>\n",
       "    </tr>\n",
       "    <tr>\n",
       "      <td>19157</td>\n",
       "      <td>23834</td>\n",
       "      <td>city_67</td>\n",
       "      <td>0.855</td>\n",
       "      <td>NaN</td>\n",
       "      <td>No relevent experience</td>\n",
       "      <td>no_enrollment</td>\n",
       "      <td>Primary School</td>\n",
       "      <td>NaN</td>\n",
       "      <td>2</td>\n",
       "      <td>NaN</td>\n",
       "      <td>NaN</td>\n",
       "      <td>1</td>\n",
       "      <td>127</td>\n",
       "      <td>0.0</td>\n",
       "    </tr>\n",
       "  </tbody>\n",
       "</table>\n",
       "<p>19158 rows × 14 columns</p>\n",
       "</div>"
      ],
      "text/plain": [
       "       enrollee_id      city  city_development_index gender  \\\n",
       "0             8949  city_103                   0.920   Male   \n",
       "1            29725   city_40                   0.776   Male   \n",
       "2            11561   city_21                   0.624    NaN   \n",
       "3            33241  city_115                   0.789    NaN   \n",
       "4              666  city_162                   0.767   Male   \n",
       "...            ...       ...                     ...    ...   \n",
       "19153         7386  city_173                   0.878   Male   \n",
       "19154        31398  city_103                   0.920   Male   \n",
       "19155        24576  city_103                   0.920   Male   \n",
       "19156         5756   city_65                   0.802   Male   \n",
       "19157        23834   city_67                   0.855    NaN   \n",
       "\n",
       "           relevent_experience enrolled_university education_level  \\\n",
       "0      Has relevent experience       no_enrollment        Graduate   \n",
       "1       No relevent experience       no_enrollment        Graduate   \n",
       "2       No relevent experience    Full time course        Graduate   \n",
       "3       No relevent experience                 NaN        Graduate   \n",
       "4      Has relevent experience       no_enrollment         Masters   \n",
       "...                        ...                 ...             ...   \n",
       "19153   No relevent experience       no_enrollment        Graduate   \n",
       "19154  Has relevent experience       no_enrollment        Graduate   \n",
       "19155  Has relevent experience       no_enrollment        Graduate   \n",
       "19156  Has relevent experience       no_enrollment     High School   \n",
       "19157   No relevent experience       no_enrollment  Primary School   \n",
       "\n",
       "      major_discipline experience company_size    company_type last_new_job  \\\n",
       "0                 STEM        >20          NaN             NaN            1   \n",
       "1                 STEM         15        50-99         Pvt Ltd           >4   \n",
       "2                 STEM          5          NaN             NaN        never   \n",
       "3      Business Degree         <1          NaN         Pvt Ltd        never   \n",
       "4                 STEM        >20        50-99  Funded Startup            4   \n",
       "...                ...        ...          ...             ...          ...   \n",
       "19153       Humanities         14          NaN             NaN            1   \n",
       "19154             STEM         14          NaN             NaN            4   \n",
       "19155             STEM        >20        50-99         Pvt Ltd            4   \n",
       "19156              NaN         <1      500-999         Pvt Ltd            2   \n",
       "19157              NaN          2          NaN             NaN            1   \n",
       "\n",
       "       training_hours  target  \n",
       "0                  36     1.0  \n",
       "1                  47     0.0  \n",
       "2                  83     0.0  \n",
       "3                  52     1.0  \n",
       "4                   8     0.0  \n",
       "...               ...     ...  \n",
       "19153              42     1.0  \n",
       "19154              52     1.0  \n",
       "19155              44     0.0  \n",
       "19156              97     0.0  \n",
       "19157             127     0.0  \n",
       "\n",
       "[19158 rows x 14 columns]"
      ]
     },
     "execution_count": 4,
     "metadata": {},
     "output_type": "execute_result"
    }
   ],
   "source": [
    "df_train"
   ]
  },
  {
   "cell_type": "code",
   "execution_count": 5,
   "metadata": {},
   "outputs": [],
   "source": [
    "df_test = pd.read_csv('aug_test.csv')"
   ]
  },
  {
   "cell_type": "code",
   "execution_count": 6,
   "metadata": {},
   "outputs": [
    {
     "data": {
      "text/html": [
       "<div>\n",
       "<style scoped>\n",
       "    .dataframe tbody tr th:only-of-type {\n",
       "        vertical-align: middle;\n",
       "    }\n",
       "\n",
       "    .dataframe tbody tr th {\n",
       "        vertical-align: top;\n",
       "    }\n",
       "\n",
       "    .dataframe thead th {\n",
       "        text-align: right;\n",
       "    }\n",
       "</style>\n",
       "<table border=\"1\" class=\"dataframe\">\n",
       "  <thead>\n",
       "    <tr style=\"text-align: right;\">\n",
       "      <th></th>\n",
       "      <th>enrollee_id</th>\n",
       "      <th>city</th>\n",
       "      <th>city_development_index</th>\n",
       "      <th>gender</th>\n",
       "      <th>relevent_experience</th>\n",
       "      <th>enrolled_university</th>\n",
       "      <th>education_level</th>\n",
       "      <th>major_discipline</th>\n",
       "      <th>experience</th>\n",
       "      <th>company_size</th>\n",
       "      <th>company_type</th>\n",
       "      <th>last_new_job</th>\n",
       "      <th>training_hours</th>\n",
       "    </tr>\n",
       "  </thead>\n",
       "  <tbody>\n",
       "    <tr>\n",
       "      <td>0</td>\n",
       "      <td>32403</td>\n",
       "      <td>city_41</td>\n",
       "      <td>0.827</td>\n",
       "      <td>Male</td>\n",
       "      <td>Has relevent experience</td>\n",
       "      <td>Full time course</td>\n",
       "      <td>Graduate</td>\n",
       "      <td>STEM</td>\n",
       "      <td>9</td>\n",
       "      <td>&lt;10</td>\n",
       "      <td>NaN</td>\n",
       "      <td>1</td>\n",
       "      <td>21</td>\n",
       "    </tr>\n",
       "    <tr>\n",
       "      <td>1</td>\n",
       "      <td>9858</td>\n",
       "      <td>city_103</td>\n",
       "      <td>0.920</td>\n",
       "      <td>Female</td>\n",
       "      <td>Has relevent experience</td>\n",
       "      <td>no_enrollment</td>\n",
       "      <td>Graduate</td>\n",
       "      <td>STEM</td>\n",
       "      <td>5</td>\n",
       "      <td>NaN</td>\n",
       "      <td>Pvt Ltd</td>\n",
       "      <td>1</td>\n",
       "      <td>98</td>\n",
       "    </tr>\n",
       "    <tr>\n",
       "      <td>2</td>\n",
       "      <td>31806</td>\n",
       "      <td>city_21</td>\n",
       "      <td>0.624</td>\n",
       "      <td>Male</td>\n",
       "      <td>No relevent experience</td>\n",
       "      <td>no_enrollment</td>\n",
       "      <td>High School</td>\n",
       "      <td>NaN</td>\n",
       "      <td>&lt;1</td>\n",
       "      <td>NaN</td>\n",
       "      <td>Pvt Ltd</td>\n",
       "      <td>never</td>\n",
       "      <td>15</td>\n",
       "    </tr>\n",
       "    <tr>\n",
       "      <td>3</td>\n",
       "      <td>27385</td>\n",
       "      <td>city_13</td>\n",
       "      <td>0.827</td>\n",
       "      <td>Male</td>\n",
       "      <td>Has relevent experience</td>\n",
       "      <td>no_enrollment</td>\n",
       "      <td>Masters</td>\n",
       "      <td>STEM</td>\n",
       "      <td>11</td>\n",
       "      <td>10/49</td>\n",
       "      <td>Pvt Ltd</td>\n",
       "      <td>1</td>\n",
       "      <td>39</td>\n",
       "    </tr>\n",
       "    <tr>\n",
       "      <td>4</td>\n",
       "      <td>27724</td>\n",
       "      <td>city_103</td>\n",
       "      <td>0.920</td>\n",
       "      <td>Male</td>\n",
       "      <td>Has relevent experience</td>\n",
       "      <td>no_enrollment</td>\n",
       "      <td>Graduate</td>\n",
       "      <td>STEM</td>\n",
       "      <td>&gt;20</td>\n",
       "      <td>10000+</td>\n",
       "      <td>Pvt Ltd</td>\n",
       "      <td>&gt;4</td>\n",
       "      <td>72</td>\n",
       "    </tr>\n",
       "    <tr>\n",
       "      <td>...</td>\n",
       "      <td>...</td>\n",
       "      <td>...</td>\n",
       "      <td>...</td>\n",
       "      <td>...</td>\n",
       "      <td>...</td>\n",
       "      <td>...</td>\n",
       "      <td>...</td>\n",
       "      <td>...</td>\n",
       "      <td>...</td>\n",
       "      <td>...</td>\n",
       "      <td>...</td>\n",
       "      <td>...</td>\n",
       "      <td>...</td>\n",
       "    </tr>\n",
       "    <tr>\n",
       "      <td>2124</td>\n",
       "      <td>1289</td>\n",
       "      <td>city_103</td>\n",
       "      <td>0.920</td>\n",
       "      <td>Male</td>\n",
       "      <td>No relevent experience</td>\n",
       "      <td>no_enrollment</td>\n",
       "      <td>Graduate</td>\n",
       "      <td>Humanities</td>\n",
       "      <td>16</td>\n",
       "      <td>NaN</td>\n",
       "      <td>Public Sector</td>\n",
       "      <td>4</td>\n",
       "      <td>15</td>\n",
       "    </tr>\n",
       "    <tr>\n",
       "      <td>2125</td>\n",
       "      <td>195</td>\n",
       "      <td>city_136</td>\n",
       "      <td>0.897</td>\n",
       "      <td>Male</td>\n",
       "      <td>Has relevent experience</td>\n",
       "      <td>no_enrollment</td>\n",
       "      <td>Masters</td>\n",
       "      <td>STEM</td>\n",
       "      <td>18</td>\n",
       "      <td>NaN</td>\n",
       "      <td>NaN</td>\n",
       "      <td>2</td>\n",
       "      <td>30</td>\n",
       "    </tr>\n",
       "    <tr>\n",
       "      <td>2126</td>\n",
       "      <td>31762</td>\n",
       "      <td>city_100</td>\n",
       "      <td>0.887</td>\n",
       "      <td>Male</td>\n",
       "      <td>No relevent experience</td>\n",
       "      <td>no_enrollment</td>\n",
       "      <td>Primary School</td>\n",
       "      <td>NaN</td>\n",
       "      <td>3</td>\n",
       "      <td>NaN</td>\n",
       "      <td>Pvt Ltd</td>\n",
       "      <td>never</td>\n",
       "      <td>18</td>\n",
       "    </tr>\n",
       "    <tr>\n",
       "      <td>2127</td>\n",
       "      <td>7873</td>\n",
       "      <td>city_102</td>\n",
       "      <td>0.804</td>\n",
       "      <td>Male</td>\n",
       "      <td>Has relevent experience</td>\n",
       "      <td>Full time course</td>\n",
       "      <td>High School</td>\n",
       "      <td>NaN</td>\n",
       "      <td>7</td>\n",
       "      <td>100-500</td>\n",
       "      <td>Public Sector</td>\n",
       "      <td>1</td>\n",
       "      <td>84</td>\n",
       "    </tr>\n",
       "    <tr>\n",
       "      <td>2128</td>\n",
       "      <td>12215</td>\n",
       "      <td>city_102</td>\n",
       "      <td>0.804</td>\n",
       "      <td>Male</td>\n",
       "      <td>Has relevent experience</td>\n",
       "      <td>no_enrollment</td>\n",
       "      <td>Masters</td>\n",
       "      <td>STEM</td>\n",
       "      <td>15</td>\n",
       "      <td>10000+</td>\n",
       "      <td>Pvt Ltd</td>\n",
       "      <td>2</td>\n",
       "      <td>11</td>\n",
       "    </tr>\n",
       "  </tbody>\n",
       "</table>\n",
       "<p>2129 rows × 13 columns</p>\n",
       "</div>"
      ],
      "text/plain": [
       "      enrollee_id      city  city_development_index  gender  \\\n",
       "0           32403   city_41                   0.827    Male   \n",
       "1            9858  city_103                   0.920  Female   \n",
       "2           31806   city_21                   0.624    Male   \n",
       "3           27385   city_13                   0.827    Male   \n",
       "4           27724  city_103                   0.920    Male   \n",
       "...           ...       ...                     ...     ...   \n",
       "2124         1289  city_103                   0.920    Male   \n",
       "2125          195  city_136                   0.897    Male   \n",
       "2126        31762  city_100                   0.887    Male   \n",
       "2127         7873  city_102                   0.804    Male   \n",
       "2128        12215  city_102                   0.804    Male   \n",
       "\n",
       "          relevent_experience enrolled_university education_level  \\\n",
       "0     Has relevent experience    Full time course        Graduate   \n",
       "1     Has relevent experience       no_enrollment        Graduate   \n",
       "2      No relevent experience       no_enrollment     High School   \n",
       "3     Has relevent experience       no_enrollment         Masters   \n",
       "4     Has relevent experience       no_enrollment        Graduate   \n",
       "...                       ...                 ...             ...   \n",
       "2124   No relevent experience       no_enrollment        Graduate   \n",
       "2125  Has relevent experience       no_enrollment         Masters   \n",
       "2126   No relevent experience       no_enrollment  Primary School   \n",
       "2127  Has relevent experience    Full time course     High School   \n",
       "2128  Has relevent experience       no_enrollment         Masters   \n",
       "\n",
       "     major_discipline experience company_size   company_type last_new_job  \\\n",
       "0                STEM          9          <10            NaN            1   \n",
       "1                STEM          5          NaN        Pvt Ltd            1   \n",
       "2                 NaN         <1          NaN        Pvt Ltd        never   \n",
       "3                STEM         11        10/49        Pvt Ltd            1   \n",
       "4                STEM        >20       10000+        Pvt Ltd           >4   \n",
       "...               ...        ...          ...            ...          ...   \n",
       "2124       Humanities         16          NaN  Public Sector            4   \n",
       "2125             STEM         18          NaN            NaN            2   \n",
       "2126              NaN          3          NaN        Pvt Ltd        never   \n",
       "2127              NaN          7      100-500  Public Sector            1   \n",
       "2128             STEM         15       10000+        Pvt Ltd            2   \n",
       "\n",
       "      training_hours  \n",
       "0                 21  \n",
       "1                 98  \n",
       "2                 15  \n",
       "3                 39  \n",
       "4                 72  \n",
       "...              ...  \n",
       "2124              15  \n",
       "2125              30  \n",
       "2126              18  \n",
       "2127              84  \n",
       "2128              11  \n",
       "\n",
       "[2129 rows x 13 columns]"
      ]
     },
     "execution_count": 6,
     "metadata": {},
     "output_type": "execute_result"
    }
   ],
   "source": [
    "df_test"
   ]
  },
  {
   "cell_type": "code",
   "execution_count": 7,
   "metadata": {},
   "outputs": [
    {
     "name": "stdout",
     "output_type": "stream",
     "text": [
      "<class 'pandas.core.frame.DataFrame'>\n",
      "RangeIndex: 19158 entries, 0 to 19157\n",
      "Data columns (total 14 columns):\n",
      "enrollee_id               19158 non-null int64\n",
      "city                      19158 non-null object\n",
      "city_development_index    19158 non-null float64\n",
      "gender                    14650 non-null object\n",
      "relevent_experience       19158 non-null object\n",
      "enrolled_university       18772 non-null object\n",
      "education_level           18698 non-null object\n",
      "major_discipline          16345 non-null object\n",
      "experience                19093 non-null object\n",
      "company_size              13220 non-null object\n",
      "company_type              13018 non-null object\n",
      "last_new_job              18735 non-null object\n",
      "training_hours            19158 non-null int64\n",
      "target                    19158 non-null float64\n",
      "dtypes: float64(2), int64(2), object(10)\n",
      "memory usage: 2.0+ MB\n"
     ]
    }
   ],
   "source": [
    "#lets print full summary of dataframe\n",
    "df_train.info()\n",
    "# we see dataframe has 19,157 rows, 14 columns, data type in each column, and number of non-null values in each column"
   ]
  },
  {
   "cell_type": "code",
   "execution_count": 8,
   "metadata": {},
   "outputs": [],
   "source": [
    "# we have separate training and test data sets. lets combine train and test together to do common feature engineering\n",
    "train_replica = df_train.copy()\n",
    "test_replica = df_test.copy()"
   ]
  },
  {
   "cell_type": "code",
   "execution_count": 9,
   "metadata": {},
   "outputs": [],
   "source": [
    "# set up a flag field to distinguish records from training and testing sets in the combined dataset\n",
    "train_replica['tst'] = 0\n",
    "test_replica['tst'] = 1"
   ]
  },
  {
   "cell_type": "code",
   "execution_count": 10,
   "metadata": {},
   "outputs": [],
   "source": [
    "# combine training and testing data into a single dataframe to do uniform part of feature engineering\n",
    "combined_data = pd.concat([train_replica, test_replica], axis=0, sort=True)\n",
    "del train_replica\n",
    "del test_replica"
   ]
  },
  {
   "cell_type": "code",
   "execution_count": 11,
   "metadata": {},
   "outputs": [
    {
     "data": {
      "text/html": [
       "<div>\n",
       "<style scoped>\n",
       "    .dataframe tbody tr th:only-of-type {\n",
       "        vertical-align: middle;\n",
       "    }\n",
       "\n",
       "    .dataframe tbody tr th {\n",
       "        vertical-align: top;\n",
       "    }\n",
       "\n",
       "    .dataframe thead th {\n",
       "        text-align: right;\n",
       "    }\n",
       "</style>\n",
       "<table border=\"1\" class=\"dataframe\">\n",
       "  <thead>\n",
       "    <tr style=\"text-align: right;\">\n",
       "      <th></th>\n",
       "      <th>city</th>\n",
       "      <th>city_development_index</th>\n",
       "      <th>company_size</th>\n",
       "      <th>company_type</th>\n",
       "      <th>education_level</th>\n",
       "      <th>enrolled_university</th>\n",
       "      <th>enrollee_id</th>\n",
       "      <th>experience</th>\n",
       "      <th>gender</th>\n",
       "      <th>last_new_job</th>\n",
       "      <th>major_discipline</th>\n",
       "      <th>relevent_experience</th>\n",
       "      <th>target</th>\n",
       "      <th>training_hours</th>\n",
       "      <th>tst</th>\n",
       "    </tr>\n",
       "  </thead>\n",
       "  <tbody>\n",
       "    <tr>\n",
       "      <td>0</td>\n",
       "      <td>city_103</td>\n",
       "      <td>0.920</td>\n",
       "      <td>NaN</td>\n",
       "      <td>NaN</td>\n",
       "      <td>Graduate</td>\n",
       "      <td>no_enrollment</td>\n",
       "      <td>8949</td>\n",
       "      <td>&gt;20</td>\n",
       "      <td>Male</td>\n",
       "      <td>1</td>\n",
       "      <td>STEM</td>\n",
       "      <td>Has relevent experience</td>\n",
       "      <td>1.0</td>\n",
       "      <td>36</td>\n",
       "      <td>0</td>\n",
       "    </tr>\n",
       "    <tr>\n",
       "      <td>1</td>\n",
       "      <td>city_40</td>\n",
       "      <td>0.776</td>\n",
       "      <td>50-99</td>\n",
       "      <td>Pvt Ltd</td>\n",
       "      <td>Graduate</td>\n",
       "      <td>no_enrollment</td>\n",
       "      <td>29725</td>\n",
       "      <td>15</td>\n",
       "      <td>Male</td>\n",
       "      <td>&gt;4</td>\n",
       "      <td>STEM</td>\n",
       "      <td>No relevent experience</td>\n",
       "      <td>0.0</td>\n",
       "      <td>47</td>\n",
       "      <td>0</td>\n",
       "    </tr>\n",
       "    <tr>\n",
       "      <td>2</td>\n",
       "      <td>city_21</td>\n",
       "      <td>0.624</td>\n",
       "      <td>NaN</td>\n",
       "      <td>NaN</td>\n",
       "      <td>Graduate</td>\n",
       "      <td>Full time course</td>\n",
       "      <td>11561</td>\n",
       "      <td>5</td>\n",
       "      <td>NaN</td>\n",
       "      <td>never</td>\n",
       "      <td>STEM</td>\n",
       "      <td>No relevent experience</td>\n",
       "      <td>0.0</td>\n",
       "      <td>83</td>\n",
       "      <td>0</td>\n",
       "    </tr>\n",
       "    <tr>\n",
       "      <td>3</td>\n",
       "      <td>city_115</td>\n",
       "      <td>0.789</td>\n",
       "      <td>NaN</td>\n",
       "      <td>Pvt Ltd</td>\n",
       "      <td>Graduate</td>\n",
       "      <td>NaN</td>\n",
       "      <td>33241</td>\n",
       "      <td>&lt;1</td>\n",
       "      <td>NaN</td>\n",
       "      <td>never</td>\n",
       "      <td>Business Degree</td>\n",
       "      <td>No relevent experience</td>\n",
       "      <td>1.0</td>\n",
       "      <td>52</td>\n",
       "      <td>0</td>\n",
       "    </tr>\n",
       "    <tr>\n",
       "      <td>4</td>\n",
       "      <td>city_162</td>\n",
       "      <td>0.767</td>\n",
       "      <td>50-99</td>\n",
       "      <td>Funded Startup</td>\n",
       "      <td>Masters</td>\n",
       "      <td>no_enrollment</td>\n",
       "      <td>666</td>\n",
       "      <td>&gt;20</td>\n",
       "      <td>Male</td>\n",
       "      <td>4</td>\n",
       "      <td>STEM</td>\n",
       "      <td>Has relevent experience</td>\n",
       "      <td>0.0</td>\n",
       "      <td>8</td>\n",
       "      <td>0</td>\n",
       "    </tr>\n",
       "    <tr>\n",
       "      <td>...</td>\n",
       "      <td>...</td>\n",
       "      <td>...</td>\n",
       "      <td>...</td>\n",
       "      <td>...</td>\n",
       "      <td>...</td>\n",
       "      <td>...</td>\n",
       "      <td>...</td>\n",
       "      <td>...</td>\n",
       "      <td>...</td>\n",
       "      <td>...</td>\n",
       "      <td>...</td>\n",
       "      <td>...</td>\n",
       "      <td>...</td>\n",
       "      <td>...</td>\n",
       "      <td>...</td>\n",
       "    </tr>\n",
       "    <tr>\n",
       "      <td>2124</td>\n",
       "      <td>city_103</td>\n",
       "      <td>0.920</td>\n",
       "      <td>NaN</td>\n",
       "      <td>Public Sector</td>\n",
       "      <td>Graduate</td>\n",
       "      <td>no_enrollment</td>\n",
       "      <td>1289</td>\n",
       "      <td>16</td>\n",
       "      <td>Male</td>\n",
       "      <td>4</td>\n",
       "      <td>Humanities</td>\n",
       "      <td>No relevent experience</td>\n",
       "      <td>NaN</td>\n",
       "      <td>15</td>\n",
       "      <td>1</td>\n",
       "    </tr>\n",
       "    <tr>\n",
       "      <td>2125</td>\n",
       "      <td>city_136</td>\n",
       "      <td>0.897</td>\n",
       "      <td>NaN</td>\n",
       "      <td>NaN</td>\n",
       "      <td>Masters</td>\n",
       "      <td>no_enrollment</td>\n",
       "      <td>195</td>\n",
       "      <td>18</td>\n",
       "      <td>Male</td>\n",
       "      <td>2</td>\n",
       "      <td>STEM</td>\n",
       "      <td>Has relevent experience</td>\n",
       "      <td>NaN</td>\n",
       "      <td>30</td>\n",
       "      <td>1</td>\n",
       "    </tr>\n",
       "    <tr>\n",
       "      <td>2126</td>\n",
       "      <td>city_100</td>\n",
       "      <td>0.887</td>\n",
       "      <td>NaN</td>\n",
       "      <td>Pvt Ltd</td>\n",
       "      <td>Primary School</td>\n",
       "      <td>no_enrollment</td>\n",
       "      <td>31762</td>\n",
       "      <td>3</td>\n",
       "      <td>Male</td>\n",
       "      <td>never</td>\n",
       "      <td>NaN</td>\n",
       "      <td>No relevent experience</td>\n",
       "      <td>NaN</td>\n",
       "      <td>18</td>\n",
       "      <td>1</td>\n",
       "    </tr>\n",
       "    <tr>\n",
       "      <td>2127</td>\n",
       "      <td>city_102</td>\n",
       "      <td>0.804</td>\n",
       "      <td>100-500</td>\n",
       "      <td>Public Sector</td>\n",
       "      <td>High School</td>\n",
       "      <td>Full time course</td>\n",
       "      <td>7873</td>\n",
       "      <td>7</td>\n",
       "      <td>Male</td>\n",
       "      <td>1</td>\n",
       "      <td>NaN</td>\n",
       "      <td>Has relevent experience</td>\n",
       "      <td>NaN</td>\n",
       "      <td>84</td>\n",
       "      <td>1</td>\n",
       "    </tr>\n",
       "    <tr>\n",
       "      <td>2128</td>\n",
       "      <td>city_102</td>\n",
       "      <td>0.804</td>\n",
       "      <td>10000+</td>\n",
       "      <td>Pvt Ltd</td>\n",
       "      <td>Masters</td>\n",
       "      <td>no_enrollment</td>\n",
       "      <td>12215</td>\n",
       "      <td>15</td>\n",
       "      <td>Male</td>\n",
       "      <td>2</td>\n",
       "      <td>STEM</td>\n",
       "      <td>Has relevent experience</td>\n",
       "      <td>NaN</td>\n",
       "      <td>11</td>\n",
       "      <td>1</td>\n",
       "    </tr>\n",
       "  </tbody>\n",
       "</table>\n",
       "<p>21287 rows × 15 columns</p>\n",
       "</div>"
      ],
      "text/plain": [
       "          city  city_development_index company_size    company_type  \\\n",
       "0     city_103                   0.920          NaN             NaN   \n",
       "1      city_40                   0.776        50-99         Pvt Ltd   \n",
       "2      city_21                   0.624          NaN             NaN   \n",
       "3     city_115                   0.789          NaN         Pvt Ltd   \n",
       "4     city_162                   0.767        50-99  Funded Startup   \n",
       "...        ...                     ...          ...             ...   \n",
       "2124  city_103                   0.920          NaN   Public Sector   \n",
       "2125  city_136                   0.897          NaN             NaN   \n",
       "2126  city_100                   0.887          NaN         Pvt Ltd   \n",
       "2127  city_102                   0.804      100-500   Public Sector   \n",
       "2128  city_102                   0.804       10000+         Pvt Ltd   \n",
       "\n",
       "     education_level enrolled_university  enrollee_id experience gender  \\\n",
       "0           Graduate       no_enrollment         8949        >20   Male   \n",
       "1           Graduate       no_enrollment        29725         15   Male   \n",
       "2           Graduate    Full time course        11561          5    NaN   \n",
       "3           Graduate                 NaN        33241         <1    NaN   \n",
       "4            Masters       no_enrollment          666        >20   Male   \n",
       "...              ...                 ...          ...        ...    ...   \n",
       "2124        Graduate       no_enrollment         1289         16   Male   \n",
       "2125         Masters       no_enrollment          195         18   Male   \n",
       "2126  Primary School       no_enrollment        31762          3   Male   \n",
       "2127     High School    Full time course         7873          7   Male   \n",
       "2128         Masters       no_enrollment        12215         15   Male   \n",
       "\n",
       "     last_new_job major_discipline      relevent_experience  target  \\\n",
       "0               1             STEM  Has relevent experience     1.0   \n",
       "1              >4             STEM   No relevent experience     0.0   \n",
       "2           never             STEM   No relevent experience     0.0   \n",
       "3           never  Business Degree   No relevent experience     1.0   \n",
       "4               4             STEM  Has relevent experience     0.0   \n",
       "...           ...              ...                      ...     ...   \n",
       "2124            4       Humanities   No relevent experience     NaN   \n",
       "2125            2             STEM  Has relevent experience     NaN   \n",
       "2126        never              NaN   No relevent experience     NaN   \n",
       "2127            1              NaN  Has relevent experience     NaN   \n",
       "2128            2             STEM  Has relevent experience     NaN   \n",
       "\n",
       "      training_hours  tst  \n",
       "0                 36    0  \n",
       "1                 47    0  \n",
       "2                 83    0  \n",
       "3                 52    0  \n",
       "4                  8    0  \n",
       "...              ...  ...  \n",
       "2124              15    1  \n",
       "2125              30    1  \n",
       "2126              18    1  \n",
       "2127              84    1  \n",
       "2128              11    1  \n",
       "\n",
       "[21287 rows x 15 columns]"
      ]
     },
     "execution_count": 11,
     "metadata": {},
     "output_type": "execute_result"
    }
   ],
   "source": [
    "combined_data"
   ]
  },
  {
   "cell_type": "code",
   "execution_count": 12,
   "metadata": {},
   "outputs": [],
   "source": [
    "from numpy import nan\n",
    "from numpy import isnan\n",
    "values=combined_data.values\n",
    "imputer= SimpleImputer(missing_values=nan, strategy='most_frequent')\n",
    "transformed_values=imputer.fit_transform(values)"
   ]
  },
  {
   "cell_type": "markdown",
   "metadata": {},
   "source": [
    "# Feature Categorization"
   ]
  },
  {
   "cell_type": "code",
   "execution_count": 13,
   "metadata": {},
   "outputs": [],
   "source": [
    "#Nominal: gender, enrolled_university, major_discipline, company_type,   \n",
    "#Ordinal: company_size, education_level, last_new_job, relevent_experience\n",
    "#Numerical: experience, training_hours"
   ]
  },
  {
   "cell_type": "markdown",
   "metadata": {},
   "source": [
    "# Lets begin by handling NaN missing values in ALL columns"
   ]
  },
  {
   "cell_type": "code",
   "execution_count": 14,
   "metadata": {
    "scrolled": true
   },
   "outputs": [
    {
     "name": "stdout",
     "output_type": "stream",
     "text": [
      "  gender enrolled_university major_discipline company_type\n",
      "0   Male       no_enrollment             STEM      Pvt Ltd\n"
     ]
    }
   ],
   "source": [
    "mode_values=combined_data [['gender', 'enrolled_university', 'major_discipline', 'company_type']].mode()\n",
    "print(mode_values)"
   ]
  },
  {
   "cell_type": "code",
   "execution_count": 15,
   "metadata": {},
   "outputs": [],
   "source": [
    "#Lets fill all NaN values in ALL COLUMNS(imputing)\n",
    "imputer = SimpleImputer(missing_values = np.nan,  \n",
    "                        strategy ='most_frequent') \n",
    "combined_data.gender=imputer.fit_transform(combined_data['gender']. values.reshape(-1,1))[:,0]\n",
    "combined_data.relevent_experience=imputer.fit_transform(combined_data['relevent_experience']. values.reshape(-1,1))[:,0]\n",
    "combined_data.education_level=imputer.fit_transform(combined_data['education_level']. values.reshape(-1,1))[:,0]\n",
    "combined_data.major_discipline=imputer.fit_transform(combined_data['major_discipline']. values.reshape(-1,1))[:,0]\n",
    "combined_data.experience=imputer.fit_transform(combined_data['experience']. values.reshape(-1,1))[:,0]\n",
    "combined_data.company_size=imputer.fit_transform(combined_data['company_size']. values.reshape(-1,1))[:,0]\n",
    "combined_data.company_type=imputer.fit_transform(combined_data['company_type']. values.reshape(-1,1))[:,0]\n",
    "combined_data.last_new_job=imputer.fit_transform(combined_data['last_new_job']. values.reshape(-1,1))[:,0]\n",
    "combined_data.training_hours=imputer.fit_transform(combined_data['training_hours']. values.reshape(-1,1))[:,0]\n",
    "combined_data.enrolled_university=imputer.fit_transform(combined_data['enrolled_university']. values.reshape(-1,1))[:,0]\n",
    "combined_data.target=imputer.fit_transform(combined_data['target']. values.reshape(-1,1))[:,0]"
   ]
  },
  {
   "cell_type": "code",
   "execution_count": 16,
   "metadata": {
    "scrolled": true
   },
   "outputs": [
    {
     "data": {
      "text/plain": [
       "city                      0\n",
       "city_development_index    0\n",
       "company_size              0\n",
       "company_type              0\n",
       "education_level           0\n",
       "enrolled_university       0\n",
       "enrollee_id               0\n",
       "experience                0\n",
       "gender                    0\n",
       "last_new_job              0\n",
       "major_discipline          0\n",
       "relevent_experience       0\n",
       "target                    0\n",
       "training_hours            0\n",
       "tst                       0\n",
       "dtype: int64"
      ]
     },
     "execution_count": 16,
     "metadata": {},
     "output_type": "execute_result"
    }
   ],
   "source": [
    "combined_data.isnull().sum()"
   ]
  },
  {
   "cell_type": "markdown",
   "metadata": {},
   "source": [
    "# Checking list of all values in columns so we can code them "
   ]
  },
  {
   "cell_type": "code",
   "execution_count": 17,
   "metadata": {
    "scrolled": true
   },
   "outputs": [
    {
     "data": {
      "text/plain": [
       "array(['Male', 'Female', 'Other'], dtype=object)"
      ]
     },
     "execution_count": 17,
     "metadata": {},
     "output_type": "execute_result"
    }
   ],
   "source": [
    "combined_data.gender.unique()"
   ]
  },
  {
   "cell_type": "code",
   "execution_count": 18,
   "metadata": {},
   "outputs": [
    {
     "data": {
      "text/plain": [
       "array(['Has relevent experience', 'No relevent experience'], dtype=object)"
      ]
     },
     "execution_count": 18,
     "metadata": {},
     "output_type": "execute_result"
    }
   ],
   "source": [
    "combined_data.relevent_experience.unique()"
   ]
  },
  {
   "cell_type": "code",
   "execution_count": 19,
   "metadata": {},
   "outputs": [
    {
     "data": {
      "text/plain": [
       "array(['no_enrollment', 'Full time course', 'Part time course'],\n",
       "      dtype=object)"
      ]
     },
     "execution_count": 19,
     "metadata": {},
     "output_type": "execute_result"
    }
   ],
   "source": [
    "combined_data.enrolled_university.unique()"
   ]
  },
  {
   "cell_type": "code",
   "execution_count": 20,
   "metadata": {},
   "outputs": [
    {
     "data": {
      "text/plain": [
       "array(['STEM', 'Business Degree', 'Arts', 'Humanities', 'No Major',\n",
       "       'Other'], dtype=object)"
      ]
     },
     "execution_count": 20,
     "metadata": {},
     "output_type": "execute_result"
    }
   ],
   "source": [
    "combined_data.major_discipline.unique()"
   ]
  },
  {
   "cell_type": "code",
   "execution_count": 21,
   "metadata": {},
   "outputs": [
    {
     "data": {
      "text/plain": [
       "array(['Pvt Ltd', 'Funded Startup', 'Early Stage Startup', 'Other',\n",
       "       'Public Sector', 'NGO'], dtype=object)"
      ]
     },
     "execution_count": 21,
     "metadata": {},
     "output_type": "execute_result"
    }
   ],
   "source": [
    "combined_data.company_type.unique()"
   ]
  },
  {
   "cell_type": "code",
   "execution_count": 22,
   "metadata": {},
   "outputs": [
    {
     "data": {
      "text/plain": [
       "array(['1', '>4', 'never', '4', '3', '2'], dtype=object)"
      ]
     },
     "execution_count": 22,
     "metadata": {},
     "output_type": "execute_result"
    }
   ],
   "source": [
    "combined_data.last_new_job.unique()"
   ]
  },
  {
   "cell_type": "markdown",
   "metadata": {},
   "source": [
    "# One Hot Encoding of Nominal Variables (company_type, enrolled_university, gender, major_discipline)"
   ]
  },
  {
   "cell_type": "code",
   "execution_count": 23,
   "metadata": {},
   "outputs": [
    {
     "name": "stdout",
     "output_type": "stream",
     "text": [
      "Encoding gender\n",
      "Encoding enrolled_university\n",
      "Encoding company_type\n",
      "Encoding major_discipline\n"
     ]
    }
   ],
   "source": [
    "# we need to use label encoder before we use on-hot encoding. Label endocer will convert string values to numerical values.\n",
    "# we need to encode every categorical feature separately, meaning we need as many encoders as categorical features. \n",
    "#Let’s loop over all categorical features and build a dictionary that will map a feature to its encoder:\n",
    "\n",
    "from sklearn.preprocessing import LabelEncoder, OneHotEncoder\n",
    "# For each categorical column\n",
    "# We fit a label encoder, transform our column and add it to our new dataframe\n",
    "\n",
    "nom_columns = [\"gender\", \"enrolled_university\", \"company_type\", \"major_discipline\"]\n",
    "label_encoders = {}\n",
    "for col in nom_columns:\n",
    "    print(\"Encoding {}\".format(col))\n",
    "    new_le = LabelEncoder()\n",
    "    combined_data[col] = new_le.fit_transform(combined_data[col])\n",
    "    label_encoders[col] = new_le"
   ]
  },
  {
   "cell_type": "code",
   "execution_count": 24,
   "metadata": {
    "scrolled": true
   },
   "outputs": [
    {
     "data": {
      "text/plain": [
       "array([[0., 1., 0., ..., 0., 0., 1.],\n",
       "       [0., 1., 0., ..., 0., 0., 1.],\n",
       "       [0., 1., 0., ..., 0., 0., 1.],\n",
       "       ...,\n",
       "       [0., 1., 0., ..., 0., 0., 1.],\n",
       "       [0., 1., 0., ..., 0., 0., 1.],\n",
       "       [0., 1., 0., ..., 0., 0., 1.]])"
      ]
     },
     "execution_count": 24,
     "metadata": {},
     "output_type": "execute_result"
    }
   ],
   "source": [
    "# Now that we have label encoded nominal features; we can do one hot encoding. \n",
    "ohe = OneHotEncoder(handle_unknown='ignore')\n",
    "ohe.fit_transform( combined_data[['gender','enrolled_university','company_type','major_discipline']] ).toarray()"
   ]
  },
  {
   "cell_type": "code",
   "execution_count": 25,
   "metadata": {},
   "outputs": [],
   "source": [
    "combined_data.drop(['city', 'city_development_index', 'enrollee_id'], axis=1, inplace=True)"
   ]
  },
  {
   "cell_type": "markdown",
   "metadata": {},
   "source": [
    "# Mapping Ordinal Features \n",
    "# (company_size, education_level, last_new_job, relevent_experience)"
   ]
  },
  {
   "cell_type": "code",
   "execution_count": 26,
   "metadata": {},
   "outputs": [],
   "source": [
    "# Ordinal features are company_size, education_level, last_new_job, relevent_experience\n",
    "# Lets find unique values in each of these columns so we can map them.\n",
    "# Oridnal featues are mapped; one-hot-encoding is not done on oridnal features"
   ]
  },
  {
   "cell_type": "code",
   "execution_count": 27,
   "metadata": {
    "scrolled": false
   },
   "outputs": [
    {
     "data": {
      "text/plain": [
       "array(['Has relevent experience', 'No relevent experience'], dtype=object)"
      ]
     },
     "execution_count": 27,
     "metadata": {},
     "output_type": "execute_result"
    }
   ],
   "source": [
    "combined_data.relevent_experience.unique()"
   ]
  },
  {
   "cell_type": "code",
   "execution_count": 28,
   "metadata": {
    "scrolled": true
   },
   "outputs": [
    {
     "data": {
      "text/plain": [
       "array(['Graduate', 'Masters', 'High School', 'Phd', 'Primary School'],\n",
       "      dtype=object)"
      ]
     },
     "execution_count": 28,
     "metadata": {},
     "output_type": "execute_result"
    }
   ],
   "source": [
    "combined_data.education_level.unique()"
   ]
  },
  {
   "cell_type": "code",
   "execution_count": 29,
   "metadata": {
    "scrolled": true
   },
   "outputs": [
    {
     "data": {
      "text/plain": [
       "array(['50-99', '<10', '10000+', '5000-9999', '1000-4999', '10/49',\n",
       "       '100-500', '500-999'], dtype=object)"
      ]
     },
     "execution_count": 29,
     "metadata": {},
     "output_type": "execute_result"
    }
   ],
   "source": [
    "combined_data.company_size.unique()"
   ]
  },
  {
   "cell_type": "code",
   "execution_count": 30,
   "metadata": {},
   "outputs": [
    {
     "data": {
      "text/plain": [
       "array(['1', '>4', 'never', '4', '3', '2'], dtype=object)"
      ]
     },
     "execution_count": 30,
     "metadata": {},
     "output_type": "execute_result"
    }
   ],
   "source": [
    "combined_data.last_new_job.unique()"
   ]
  },
  {
   "cell_type": "code",
   "execution_count": 31,
   "metadata": {
    "scrolled": true
   },
   "outputs": [],
   "source": [
    "#Mapping ordinal features. Creating new columns for ordinal features. \n",
    "relevent_experience_map= {'Has relevent experience': 1, 'No relevent experience':2}\n",
    "combined_data['relevent_experience_ordinal'] = combined_data.relevent_experience.map(relevent_experience_map)\n",
    "\n",
    "education_level_map = {'Primary School': 1, 'High School':2, 'Masters':3, 'Graduate':4, 'Phd':5}\n",
    "combined_data['education_level_ordinal'] = combined_data.education_level.map(education_level_map)\n",
    "\n",
    "company_size_map = {'<10': 1, '10/49':1, '50-99':2, '100-500':3, '500-999':4, '1000-4999':5, '5000-9999':6, '10000+':7}\n",
    "combined_data['company_size_ordinal'] = combined_data.company_size.map(company_size_map)\n",
    "\n",
    "last_new_job_map = {'never': 0, '1':1, '2':2, '3':3, '4':4, '>4':5}\n",
    "combined_data['last_new_job_ordinal'] = combined_data.last_new_job.map(last_new_job_map)\n",
    "\n"
   ]
  },
  {
   "cell_type": "markdown",
   "metadata": {},
   "source": [
    "# Cleaning columns with continuous data"
   ]
  },
  {
   "cell_type": "code",
   "execution_count": 32,
   "metadata": {},
   "outputs": [
    {
     "data": {
      "text/html": [
       "<div>\n",
       "<style scoped>\n",
       "    .dataframe tbody tr th:only-of-type {\n",
       "        vertical-align: middle;\n",
       "    }\n",
       "\n",
       "    .dataframe tbody tr th {\n",
       "        vertical-align: top;\n",
       "    }\n",
       "\n",
       "    .dataframe thead th {\n",
       "        text-align: right;\n",
       "    }\n",
       "</style>\n",
       "<table border=\"1\" class=\"dataframe\">\n",
       "  <thead>\n",
       "    <tr style=\"text-align: right;\">\n",
       "      <th></th>\n",
       "      <th>company_size</th>\n",
       "      <th>company_type</th>\n",
       "      <th>education_level</th>\n",
       "      <th>enrolled_university</th>\n",
       "      <th>experience</th>\n",
       "      <th>gender</th>\n",
       "      <th>last_new_job</th>\n",
       "      <th>major_discipline</th>\n",
       "      <th>relevent_experience</th>\n",
       "      <th>target</th>\n",
       "      <th>training_hours</th>\n",
       "      <th>tst</th>\n",
       "      <th>relevent_experience_ordinal</th>\n",
       "      <th>education_level_ordinal</th>\n",
       "      <th>company_size_ordinal</th>\n",
       "      <th>last_new_job_ordinal</th>\n",
       "    </tr>\n",
       "  </thead>\n",
       "  <tbody>\n",
       "    <tr>\n",
       "      <td>0</td>\n",
       "      <td>50-99</td>\n",
       "      <td>5</td>\n",
       "      <td>Graduate</td>\n",
       "      <td>2</td>\n",
       "      <td>20</td>\n",
       "      <td>1</td>\n",
       "      <td>1</td>\n",
       "      <td>5</td>\n",
       "      <td>Has relevent experience</td>\n",
       "      <td>1.0</td>\n",
       "      <td>36</td>\n",
       "      <td>0</td>\n",
       "      <td>1</td>\n",
       "      <td>4</td>\n",
       "      <td>2</td>\n",
       "      <td>1</td>\n",
       "    </tr>\n",
       "    <tr>\n",
       "      <td>1</td>\n",
       "      <td>50-99</td>\n",
       "      <td>5</td>\n",
       "      <td>Graduate</td>\n",
       "      <td>2</td>\n",
       "      <td>15</td>\n",
       "      <td>1</td>\n",
       "      <td>&gt;4</td>\n",
       "      <td>5</td>\n",
       "      <td>No relevent experience</td>\n",
       "      <td>0.0</td>\n",
       "      <td>47</td>\n",
       "      <td>0</td>\n",
       "      <td>2</td>\n",
       "      <td>4</td>\n",
       "      <td>2</td>\n",
       "      <td>5</td>\n",
       "    </tr>\n",
       "    <tr>\n",
       "      <td>2</td>\n",
       "      <td>50-99</td>\n",
       "      <td>5</td>\n",
       "      <td>Graduate</td>\n",
       "      <td>0</td>\n",
       "      <td>5</td>\n",
       "      <td>1</td>\n",
       "      <td>never</td>\n",
       "      <td>5</td>\n",
       "      <td>No relevent experience</td>\n",
       "      <td>0.0</td>\n",
       "      <td>83</td>\n",
       "      <td>0</td>\n",
       "      <td>2</td>\n",
       "      <td>4</td>\n",
       "      <td>2</td>\n",
       "      <td>0</td>\n",
       "    </tr>\n",
       "    <tr>\n",
       "      <td>3</td>\n",
       "      <td>50-99</td>\n",
       "      <td>5</td>\n",
       "      <td>Graduate</td>\n",
       "      <td>2</td>\n",
       "      <td>1</td>\n",
       "      <td>1</td>\n",
       "      <td>never</td>\n",
       "      <td>1</td>\n",
       "      <td>No relevent experience</td>\n",
       "      <td>1.0</td>\n",
       "      <td>52</td>\n",
       "      <td>0</td>\n",
       "      <td>2</td>\n",
       "      <td>4</td>\n",
       "      <td>2</td>\n",
       "      <td>0</td>\n",
       "    </tr>\n",
       "    <tr>\n",
       "      <td>4</td>\n",
       "      <td>50-99</td>\n",
       "      <td>1</td>\n",
       "      <td>Masters</td>\n",
       "      <td>2</td>\n",
       "      <td>20</td>\n",
       "      <td>1</td>\n",
       "      <td>4</td>\n",
       "      <td>5</td>\n",
       "      <td>Has relevent experience</td>\n",
       "      <td>0.0</td>\n",
       "      <td>8</td>\n",
       "      <td>0</td>\n",
       "      <td>1</td>\n",
       "      <td>3</td>\n",
       "      <td>2</td>\n",
       "      <td>4</td>\n",
       "    </tr>\n",
       "    <tr>\n",
       "      <td>...</td>\n",
       "      <td>...</td>\n",
       "      <td>...</td>\n",
       "      <td>...</td>\n",
       "      <td>...</td>\n",
       "      <td>...</td>\n",
       "      <td>...</td>\n",
       "      <td>...</td>\n",
       "      <td>...</td>\n",
       "      <td>...</td>\n",
       "      <td>...</td>\n",
       "      <td>...</td>\n",
       "      <td>...</td>\n",
       "      <td>...</td>\n",
       "      <td>...</td>\n",
       "      <td>...</td>\n",
       "      <td>...</td>\n",
       "    </tr>\n",
       "    <tr>\n",
       "      <td>2124</td>\n",
       "      <td>50-99</td>\n",
       "      <td>4</td>\n",
       "      <td>Graduate</td>\n",
       "      <td>2</td>\n",
       "      <td>16</td>\n",
       "      <td>1</td>\n",
       "      <td>4</td>\n",
       "      <td>2</td>\n",
       "      <td>No relevent experience</td>\n",
       "      <td>0.0</td>\n",
       "      <td>15</td>\n",
       "      <td>1</td>\n",
       "      <td>2</td>\n",
       "      <td>4</td>\n",
       "      <td>2</td>\n",
       "      <td>4</td>\n",
       "    </tr>\n",
       "    <tr>\n",
       "      <td>2125</td>\n",
       "      <td>50-99</td>\n",
       "      <td>5</td>\n",
       "      <td>Masters</td>\n",
       "      <td>2</td>\n",
       "      <td>18</td>\n",
       "      <td>1</td>\n",
       "      <td>2</td>\n",
       "      <td>5</td>\n",
       "      <td>Has relevent experience</td>\n",
       "      <td>0.0</td>\n",
       "      <td>30</td>\n",
       "      <td>1</td>\n",
       "      <td>1</td>\n",
       "      <td>3</td>\n",
       "      <td>2</td>\n",
       "      <td>2</td>\n",
       "    </tr>\n",
       "    <tr>\n",
       "      <td>2126</td>\n",
       "      <td>50-99</td>\n",
       "      <td>5</td>\n",
       "      <td>Primary School</td>\n",
       "      <td>2</td>\n",
       "      <td>3</td>\n",
       "      <td>1</td>\n",
       "      <td>never</td>\n",
       "      <td>5</td>\n",
       "      <td>No relevent experience</td>\n",
       "      <td>0.0</td>\n",
       "      <td>18</td>\n",
       "      <td>1</td>\n",
       "      <td>2</td>\n",
       "      <td>1</td>\n",
       "      <td>2</td>\n",
       "      <td>0</td>\n",
       "    </tr>\n",
       "    <tr>\n",
       "      <td>2127</td>\n",
       "      <td>100-500</td>\n",
       "      <td>4</td>\n",
       "      <td>High School</td>\n",
       "      <td>0</td>\n",
       "      <td>7</td>\n",
       "      <td>1</td>\n",
       "      <td>1</td>\n",
       "      <td>5</td>\n",
       "      <td>Has relevent experience</td>\n",
       "      <td>0.0</td>\n",
       "      <td>84</td>\n",
       "      <td>1</td>\n",
       "      <td>1</td>\n",
       "      <td>2</td>\n",
       "      <td>3</td>\n",
       "      <td>1</td>\n",
       "    </tr>\n",
       "    <tr>\n",
       "      <td>2128</td>\n",
       "      <td>10000+</td>\n",
       "      <td>5</td>\n",
       "      <td>Masters</td>\n",
       "      <td>2</td>\n",
       "      <td>15</td>\n",
       "      <td>1</td>\n",
       "      <td>2</td>\n",
       "      <td>5</td>\n",
       "      <td>Has relevent experience</td>\n",
       "      <td>0.0</td>\n",
       "      <td>11</td>\n",
       "      <td>1</td>\n",
       "      <td>1</td>\n",
       "      <td>3</td>\n",
       "      <td>7</td>\n",
       "      <td>2</td>\n",
       "    </tr>\n",
       "  </tbody>\n",
       "</table>\n",
       "<p>21287 rows × 16 columns</p>\n",
       "</div>"
      ],
      "text/plain": [
       "     company_size  company_type education_level  enrolled_university  \\\n",
       "0           50-99             5        Graduate                    2   \n",
       "1           50-99             5        Graduate                    2   \n",
       "2           50-99             5        Graduate                    0   \n",
       "3           50-99             5        Graduate                    2   \n",
       "4           50-99             1         Masters                    2   \n",
       "...           ...           ...             ...                  ...   \n",
       "2124        50-99             4        Graduate                    2   \n",
       "2125        50-99             5         Masters                    2   \n",
       "2126        50-99             5  Primary School                    2   \n",
       "2127      100-500             4     High School                    0   \n",
       "2128       10000+             5         Masters                    2   \n",
       "\n",
       "     experience  gender last_new_job  major_discipline  \\\n",
       "0            20       1            1                 5   \n",
       "1            15       1           >4                 5   \n",
       "2             5       1        never                 5   \n",
       "3             1       1        never                 1   \n",
       "4            20       1            4                 5   \n",
       "...         ...     ...          ...               ...   \n",
       "2124         16       1            4                 2   \n",
       "2125         18       1            2                 5   \n",
       "2126          3       1        never                 5   \n",
       "2127          7       1            1                 5   \n",
       "2128         15       1            2                 5   \n",
       "\n",
       "          relevent_experience  target  training_hours  tst  \\\n",
       "0     Has relevent experience     1.0              36    0   \n",
       "1      No relevent experience     0.0              47    0   \n",
       "2      No relevent experience     0.0              83    0   \n",
       "3      No relevent experience     1.0              52    0   \n",
       "4     Has relevent experience     0.0               8    0   \n",
       "...                       ...     ...             ...  ...   \n",
       "2124   No relevent experience     0.0              15    1   \n",
       "2125  Has relevent experience     0.0              30    1   \n",
       "2126   No relevent experience     0.0              18    1   \n",
       "2127  Has relevent experience     0.0              84    1   \n",
       "2128  Has relevent experience     0.0              11    1   \n",
       "\n",
       "      relevent_experience_ordinal  education_level_ordinal  \\\n",
       "0                               1                        4   \n",
       "1                               2                        4   \n",
       "2                               2                        4   \n",
       "3                               2                        4   \n",
       "4                               1                        3   \n",
       "...                           ...                      ...   \n",
       "2124                            2                        4   \n",
       "2125                            1                        3   \n",
       "2126                            2                        1   \n",
       "2127                            1                        2   \n",
       "2128                            1                        3   \n",
       "\n",
       "      company_size_ordinal  last_new_job_ordinal  \n",
       "0                        2                     1  \n",
       "1                        2                     5  \n",
       "2                        2                     0  \n",
       "3                        2                     0  \n",
       "4                        2                     4  \n",
       "...                    ...                   ...  \n",
       "2124                     2                     4  \n",
       "2125                     2                     2  \n",
       "2126                     2                     0  \n",
       "2127                     3                     1  \n",
       "2128                     7                     2  \n",
       "\n",
       "[21287 rows x 16 columns]"
      ]
     },
     "execution_count": 32,
     "metadata": {},
     "output_type": "execute_result"
    }
   ],
   "source": [
    "#In column experience managing the < and > signs\n",
    "combined_data['experience'] = combined_data['experience'].replace(['>20', '<1'], ['20', '1'])\n",
    "combined_data"
   ]
  },
  {
   "cell_type": "markdown",
   "metadata": {},
   "source": [
    "# Defining predictor and traget variables. Splitting data into test and training"
   ]
  },
  {
   "cell_type": "code",
   "execution_count": 33,
   "metadata": {
    "scrolled": true
   },
   "outputs": [],
   "source": [
    "# Define Predictors and Target Variable\n",
    "nom_col = ['gender','enrolled_university', 'major_discipline', 'company_type'] \n",
    "ord_col = ['company_size_ordinal', 'education_level_ordinal', 'last_new_job_ordinal', 'relevent_experience_ordinal']\n",
    "num_col = ['experience', 'training_hours']   \n",
    "\n",
    "X= combined_data[nom_col + ord_col + num_col]\n",
    "y= combined_data['target']\n",
    "\n",
    "# Splitting Data into Training Set and Test Set\n",
    "X_train, X_test, y_train, y_test = train_test_split(X, y, \n",
    "                                                    test_size=0.3, \n",
    "                                                    stratify=y,   #remove for Logisticregression\n",
    "                                                    random_state=4\n",
    "                                                   )"
   ]
  },
  {
   "cell_type": "markdown",
   "metadata": {},
   "source": [
    "# Checking for balanced or imbalanced data (since its a classification prob)"
   ]
  },
  {
   "cell_type": "code",
   "execution_count": 34,
   "metadata": {
    "scrolled": true
   },
   "outputs": [
    {
     "name": "stdout",
     "output_type": "stream",
     "text": [
      "0.0    16510\n",
      "1.0     4777\n",
      "Name: target, dtype: int64\n"
     ]
    }
   ],
   "source": [
    "print(combined_data['target'].value_counts())"
   ]
  },
  {
   "cell_type": "markdown",
   "metadata": {},
   "source": [
    "Our dataset is imbalanced. For imbalanced dataset performance metrics will be Confusion Matrix, \n",
    "Precicion, Recall, and F1 Score. We use Accuracy only when dataset is balanced (50/50 or 60/40 difference)"
   ]
  },
  {
   "cell_type": "code",
   "execution_count": 35,
   "metadata": {},
   "outputs": [],
   "source": [
    "#Recall = TP/(TP+FN)      \n",
    "# Out of total actual positive values how many positive did we predict correctly (TPR or Sensitivity)\n",
    "# When you want to reduce FN (eg cancer or not) use Recall.\n",
    "\n",
    "# Precision = TP/ (TP+FP)  \n",
    "# Out of total actual predicted positive rsults how many results were actual positive (Positive Prediction Value)  \n",
    "# When your FP is important (you want to reduce it, eg spam or not) value use Precision\n",
    "\n",
    "# If FP and FN are noth important then use weighted average of FP and Fn which is called F1 SCORE."
   ]
  },
  {
   "cell_type": "markdown",
   "metadata": {},
   "source": [
    "# Standardizing data"
   ]
  },
  {
   "cell_type": "code",
   "execution_count": 36,
   "metadata": {},
   "outputs": [],
   "source": [
    "sc = StandardScaler()\n",
    "sc.fit(X_train)\n",
    "X_train_std = sc.transform(X_train)\n",
    "X_test_std = sc.transform(X_test)"
   ]
  },
  {
   "cell_type": "markdown",
   "metadata": {},
   "source": [
    "# Making pipeline branches. Creating the main pipe."
   ]
  },
  {
   "cell_type": "code",
   "execution_count": 37,
   "metadata": {},
   "outputs": [],
   "source": [
    "# In the following block we experiment with different models. \n",
    "# The one with closely matching training accuracy and test accuracy will be used for hyperparameter tuning.\n",
    "# If training accuracy is much higher than validation/test accuracy that means model suffers from HIGH VARIANCE. \n",
    "# HIGH VARAINCE= OVERFITTING = model fits training data perfectly but does not do a good job with out of model data\n",
    "# If test accuracy is signifcantly higher than training accuracy mlodel suffers from HIGH BIAS.\n",
    "# HIGH BIAS= UNDERFITTING = decision boundary is very simple thus fails to capture important relations."
   ]
  },
  {
   "cell_type": "code",
   "execution_count": 38,
   "metadata": {
    "scrolled": true
   },
   "outputs": [
    {
     "name": "stdout",
     "output_type": "stream",
     "text": [
      "Training score: 0.7775838926174496\n",
      "Test accuracy:  0.7721935180836074\n"
     ]
    }
   ],
   "source": [
    "# Branch for nominal features\n",
    "nom_pipe = make_pipeline(SimpleImputer(strategy='most_frequent'),\n",
    "                         OneHotEncoder(handle_unknown='ignore')\n",
    "                        )\n",
    "# Branch for ordinal features\n",
    "ord_pipe = make_pipeline(SimpleImputer(strategy='median'),\n",
    "                         StandardScaler()\n",
    "                        )\n",
    "# Branch for numerical features\n",
    "num_pipe = make_pipeline(SimpleImputer(strategy='mean'),\n",
    "                         MinMaxScaler()\n",
    "                        )\n",
    "# Make the main pipe, in which a column transformer sends columns into relevent pipes\n",
    "pipe = make_pipeline(ColumnTransformer( [ ('nom', nom_pipe, nom_col),\n",
    "                                          ('ord', ord_pipe, ord_col),\n",
    "                                          ('num', num_pipe, num_col) ] ),\n",
    "                     #PCA(n_components=3),\n",
    "                     #LDA(n_components=8),\n",
    "                     #SVC(kernel='rbf', C=100, gamma=1)\n",
    "                     #LogisticRegression(solver='lbfgs', C=0.01)\n",
    "                     DecisionTreeClassifier(criterion='gini', max_depth=6)\n",
    "                     #RandomForestClassifier(criterion='gini', n_estimators=20, random_state=1)\n",
    "                     #KNeighborsClassifier(n_neighbors=10, p=2)\n",
    "                    )\n",
    "pipe.fit(X_train,y_train)\n",
    "\n",
    "print('Training score:', pipe.score(X_train,y_train))\n",
    "print(\"Test accuracy: \", pipe.score(X_test, y_test))"
   ]
  },
  {
   "cell_type": "markdown",
   "metadata": {},
   "source": [
    "# Plotting Confusion Matrix & Getting Classification Report"
   ]
  },
  {
   "cell_type": "code",
   "execution_count": 39,
   "metadata": {},
   "outputs": [],
   "source": [
    "# Each row (x-axis) in a confusion matrix represents an actual class, \n",
    "# while each column (y-axis) represents a predicted class. "
   ]
  },
  {
   "cell_type": "code",
   "execution_count": 40,
   "metadata": {},
   "outputs": [
    {
     "name": "stdout",
     "output_type": "stream",
     "text": [
      "Classification Report:\n",
      "\n",
      "              precision    recall  f1-score   support\n",
      "\n",
      "         0.0       0.79      0.79      0.79      4954\n",
      "         1.0       0.28      0.29      0.29      1433\n",
      "\n",
      "    accuracy                           0.68      6387\n",
      "   macro avg       0.54      0.54      0.54      6387\n",
      "weighted avg       0.68      0.68      0.68      6387\n",
      "\n"
     ]
    },
    {
     "data": {
      "image/png": "[encoded data removed]",
      "text/plain": [
       "<Figure size 700x400 with 1 Axes>"
      ]
     },
     "metadata": {},
     "output_type": "display_data"
    }
   ],
   "source": [
    "def get_perfomance_details(y_pred,y_test):\n",
    "    #Classification report\n",
    "    print (\"Classification Report:\\n\")\n",
    "    print (classification_report(y_true=y_test,y_pred=y_pred))\n",
    "    \n",
    "    #Draw confusion matrix\n",
    "    sns.reset_defaults()\n",
    "    plt.figure(figsize=(7,4));\n",
    "    sns.heatmap(confusion_matrix(y_test,y_pred),annot=True,cmap=\"GnBu\",fmt=\"g\",cbar=False);\n",
    "    plt.title(\"Confusion Matrix\");\n",
    "    plt.show()    \n",
    "    \n",
    "from sklearn.metrics import classification_report\n",
    "model=DecisionTreeClassifier()\n",
    "model.fit(X_train,y_train)\n",
    "y_pred=model.predict(X_test)\n",
    "get_perfomance_details(y_pred,y_test)"
   ]
  },
  {
   "cell_type": "code",
   "execution_count": 41,
   "metadata": {},
   "outputs": [],
   "source": [
    "# Precision — What percent of your predictions were correct? \n",
    "# From classification report we have 79% of class 0  as correct & 28% of class 1 as correct\n",
    "\n",
    "\n",
    "# Recall — What percent of the positive cases did you catch?\n",
    "# 78% of class 0 positive cases and 30% of class 1 positive cases\n",
    "\n",
    "#My Notes\n",
    "# class0 is not looking for a job change and class1 is those who are looking for a job change. \n",
    "# If the problem's focus is to find those not looking for a job change then we have decent positve cases captured.\n",
    "# However, if the problem's fopcus is to find a higher percent of those who are looking to chnage jobs then we have captured\n",
    "# a very little correct predictions/ positive cases. In that case we will need to switch the model.\n",
    "\n",
    "# Support is the number of actual occurrences of the class in the dataset.\n"
   ]
  },
  {
   "cell_type": "markdown",
   "metadata": {},
   "source": [
    "# Evaluating Model Performance: ROC AUC...."
   ]
  },
  {
   "cell_type": "code",
   "execution_count": 42,
   "metadata": {},
   "outputs": [
    {
     "name": "stdout",
     "output_type": "stream",
     "text": [
      "\n",
      "----------------\n",
      "AOC ROC details\n",
      "----------------\n",
      "\n",
      "AUC score: 0.5373392153082975\n",
      "True positive rate: [0.         0.28820656 1.        ]\n",
      "False postive rate: [0.         0.21235365 1.        ]\n"
     ]
    },
    {
     "data": {
      "image/png": "[encoded data removed]",
      "text/plain": [
       "<Figure size 400x400 with 1 Axes>"
      ]
     },
     "metadata": {},
     "output_type": "display_data"
    }
   ],
   "source": [
    " #Find the Area under the curve\n",
    "print (\"\\n----------------\\nAOC ROC details\\n----------------\\n\")\n",
    "rocauc_score=roc_auc_score(y_pred,y_test)\n",
    "    \n",
    "#ROC curve\n",
    "fpr,tpr,_=roc_curve(y_test,y_pred)\n",
    "roc_aoc=auc(fpr,tpr)\n",
    "print (f\"AUC score: {rocauc_score}\\nTrue positive rate: {tpr}\\nFalse postive rate: {fpr}\")\n",
    "\n",
    "\n",
    "#Draw the ROC curve\n",
    "plt.figure(figsize=(4,4));\n",
    "lw=2\n",
    "plt.plot(fpr,tpr,\n",
    "            color='green',\n",
    "            lw=lw,\n",
    "            label='ROC curve (area=%0.4f)' % roc_aoc);\n",
    "    \n",
    "#plot diagonal line  from (0,0) to (1,1), represents fpt=tpr\n",
    "plt.plot([0,1],[0,1],color='lightgrey',lw=lw,linestyle='--');\n",
    "plt.xlim([0.0,1.0]);\n",
    "plt.ylim([0.0,1.0]);\n",
    "plt.xlabel(\"False Positive Rate\");\n",
    "plt.ylabel(\"True Postive Rate\");\n",
    "plt.title(\"Reciever operating characteristic for training data\");\n",
    "plt.legend(loc='lower right')\n",
    "plt.show()\n"
   ]
  },
  {
   "cell_type": "code",
   "execution_count": 43,
   "metadata": {},
   "outputs": [],
   "source": [
    "# AUC - ROC curve is a performance measurement for the classification problems at various threshold settings. \n",
    "# ROC is a probability curve and AUC represents the degree or measure of separability. \n",
    "# AUC tells how much the model is capable of distinguishing between classes. \n",
    "# Higher the AUC, the better the model is at predicting 0s as 0s and 1s as 1s. \n",
    "\n",
    "# In our case AUC is not very high. We can try to train a different model.\n"
   ]
  },
  {
   "cell_type": "markdown",
   "metadata": {},
   "source": [
    "# Performance Metrics for the Model"
   ]
  },
  {
   "cell_type": "code",
   "execution_count": 44,
   "metadata": {},
   "outputs": [
    {
     "name": "stdout",
     "output_type": "stream",
     "text": [
      "\n",
      "Measuring performance using log loss (the lower the better):\n",
      "Training set log loss: 0.48452846365234475\n",
      "Test set     log loss: 0.5487815835846126\n"
     ]
    }
   ],
   "source": [
    "print('\\nMeasuring performance using log loss (the lower the better):')\n",
    "print('Training set log loss:', log_loss(y_train, pipe.predict_proba(X_train)))\n",
    "print('Test set     log loss:', log_loss(y_test,  pipe.predict_proba(X_test)))"
   ]
  },
  {
   "cell_type": "markdown",
   "metadata": {},
   "source": [
    "# Hyperparameter Tuning & Plotting Validation Curve"
   ]
  },
  {
   "cell_type": "code",
   "execution_count": 45,
   "metadata": {},
   "outputs": [],
   "source": [
    "# A learning curve plots the score over varying numbers of training samples, while a validation curve plots the score over \n",
    "# a varying hyper parameter. The learning curve is a tool for finding out if an estimator would benefit from more data, \n",
    "#or if the model is too simple (biased). If the training curve and validation curves converge that means this classifier \n",
    "# would hardly benefit from adding more training data; a more expressive model may be more appropriate.\n",
    "\n",
    "# The validation curve is a tool for finding good hyper parameter settings. \n",
    "# Some hyper parameters (number of neurons in a neural network, maximum tree depth in a decision tree, \n",
    "# amount of regularization, etc.) control the complexity of a model. \n",
    "# We want the model to be complex enough to capture relevant information in the training data but not too complex to avoid \n",
    "# overfitting."
   ]
  },
  {
   "cell_type": "code",
   "execution_count": 46,
   "metadata": {},
   "outputs": [
    {
     "data": {
      "image/png": "[encoded data removed]",
      "text/plain": [
       "<Figure size 1200x600 with 1 Axes>"
      ]
     },
     "metadata": {},
     "output_type": "display_data"
    }
   ],
   "source": [
    "#param_name  = 'svc__gamma'\n",
    "#param_range = np.logspace(-5, 1, 13)\n",
    "#param_name  = 'logisticregression__C'\n",
    "#param_range = np.logspace(-4, 2, 13)\n",
    "param_name  = 'decisiontreeclassifier__max_depth'\n",
    "param_range = np.arange(1,15)\n",
    "#param_name  = 'randomforestclassifier__max_depth'\n",
    "#param_range = np.arange(1,40)\n",
    "#param_name  = 'kneighborsclassifier__n_neighbors'\n",
    "#param_range = np.arange(1,26,2)\n",
    "\n",
    "#scoring='r2'           # for regression problems\n",
    "#scoring='accuracy'     # for classification problems with balanced target varaiable values\n",
    "#scoring='neg_log_loss' # for classification problems\n",
    "scoring='roc_auc'      # for classification problems\n",
    "\n",
    "\n",
    "train_scores, val_scores = validation_curve(estimator=pipe, X=X_train, y=y_train, \n",
    "                                            cv=10,\n",
    "                                            param_name=param_name, \n",
    "                                            param_range=param_range,\n",
    "                                            scoring = scoring\n",
    "                                            )\n",
    "\n",
    "trn_mean = np.mean(train_scores, axis=1)\n",
    "trn_std  = np.std (train_scores, axis=1)\n",
    "val_mean = np.mean(val_scores, axis=1)\n",
    "val_std  = np.std (val_scores, axis=1)\n",
    "\n",
    "plt.figure(figsize=(12,6))\n",
    "plt.plot(param_range, trn_mean, 'bo-',  markersize=5, label='training accuracy')\n",
    "plt.fill_between(param_range, trn_mean+trn_std, trn_mean-trn_std, alpha=0.25, color='blue')\n",
    "\n",
    "plt.plot(param_range, val_mean, 'gs--', markersize=5, label='validation accuracy')\n",
    "plt.fill_between(param_range, val_mean+val_std, val_mean-val_std, alpha=0.15, color='green')\n",
    "\n",
    "plt.grid()\n",
    "#plt.xscale('log')  # Use this only when param_range = np.logspace(...). Comment this out otherwise.\n",
    "plt.legend(loc='upper center', fontsize=14)\n",
    "plt.xlabel(param_name, fontsize=14)\n",
    "plt.ylabel(scoring, fontsize=14)\n",
    "#plt.savefig('val_curve')\n",
    "plt.show()"
   ]
  },
  {
   "cell_type": "markdown",
   "metadata": {},
   "source": [
    "# Tuning Multiple Hyperparameters Together by GRIDSEARCH"
   ]
  },
  {
   "cell_type": "code",
   "execution_count": 47,
   "metadata": {},
   "outputs": [
    {
     "name": "stdout",
     "output_type": "stream",
     "text": [
      "Best parameters: {'decisiontreeclassifier__max_depth': 7, 'decisiontreeclassifier__min_samples_leaf': 10} \n",
      "Validation roc_auc: 0.670714 +/- 0.013237 \n",
      "      Test roc_auc: 0.768749\n",
      "\n",
      "Best Model:\n",
      "Training score: 0.7783221476510067\n",
      "    Test score: 0.7687490214498199\n",
      "\n",
      "Measuring performance using log loss (the lower the better):\n",
      "Training set log loss: 0.47761721542974256\n",
      "    Test set log loss: 0.5880958673895741\n",
      "\n",
      "Measuring performance using roc_auc  (the higher the better: highest possible is 1, random guess is 0.5):\n",
      "Training set roc auc: 0.7156918732330686\n",
      "    Test set roc auc: 0.6685602448316557\n"
     ]
    }
   ],
   "source": [
    "params = {'decisiontreeclassifier__max_depth': np.arange(1, 15, 3),\n",
    "          'decisiontreeclassifier__min_samples_leaf': [5, 10],\n",
    "          #'logisticregression__C':  np.logspace(-4, 2, 5),\n",
    "          #'svc__C': np.logspace(-5, 1, 5)\n",
    "          # you can add more parameters here\n",
    "         }\n",
    "\n",
    "gs = GridSearchCV(estimator=pipe, \n",
    "                  cv=10,\n",
    "                  param_grid=params,\n",
    "                  scoring=scoring\n",
    "                 )\n",
    "gs.fit(X_train, y_train)\n",
    "\n",
    "print('Best parameters:', gs.best_params_, \n",
    "      '\\nValidation %s: %.6f +/- %.6f' % (scoring, gs.best_score_, gs.cv_results_['std_test_score'][gs.best_index_]),\n",
    "      '\\n      Test %s: %.6f\\n' % (scoring, gs.best_estimator_.score(X_test,y_test)))\n",
    "\n",
    "pipe = gs.best_estimator_    # This is the FINAL model (already retrained by GridSearchCV)\n",
    "\n",
    "\n",
    "print('Best Model:')\n",
    "\n",
    "print('Training score:', pipe.score(X_train,y_train))\n",
    "print('    Test score:', pipe.score(X_test,y_test))\n",
    "\n",
    "print('\\nMeasuring performance using log loss (the lower the better):')\n",
    "print('Training set log loss:', log_loss(y_train, pipe.predict_proba(X_train)))\n",
    "print('    Test set log loss:', log_loss(y_test,  pipe.predict_proba(X_test)))\n",
    "\n",
    "print('\\nMeasuring performance using roc_auc  (the higher the better: highest possible is 1, random guess is 0.5):')\n",
    "print('Training set roc auc:', roc_auc_score(y_train, pipe.predict_proba(X_train)[:,1]))\n",
    "print('    Test set roc auc:', roc_auc_score(y_test,  pipe.predict_proba(X_test) [:,1]))"
   ]
  },
  {
   "cell_type": "markdown",
   "metadata": {},
   "source": [
    "# Model Diagnosis: Learning Curve\n",
    "# (if model can benefit from collecting more samples)"
   ]
  },
  {
   "cell_type": "code",
   "execution_count": 48,
   "metadata": {},
   "outputs": [
    {
     "data": {
      "image/png": "[encoded data removed]",
      "text/plain": [
       "<Figure size 1200x600 with 1 Axes>"
      ]
     },
     "metadata": {},
     "output_type": "display_data"
    }
   ],
   "source": [
    "from sklearn.model_selection import learning_curve\n",
    "\n",
    "train_sizes, train_scores, test_scores = learning_curve(estimator=pipe, X=X_train, y=y_train,\n",
    "                                                        train_sizes=np.linspace(0.03, 1.0, 5),\n",
    "                                                        cv=5,\n",
    "                                                        scoring=scoring\n",
    "                                                       )\n",
    "train_mean= np.mean(train_scores, axis=1)\n",
    "train_std = np.std (train_scores, axis=1)\n",
    "test_mean = np.mean(test_scores, axis=1)\n",
    "test_std  = np.std (test_scores, axis=1)\n",
    "\n",
    "plt.figure(figsize=(12,6))\n",
    "plt.plot(train_sizes, train_mean, 'bo-', markersize=5, label='training '+ scoring)\n",
    "plt.fill_between(train_sizes, train_mean + train_std, train_mean - train_std, alpha=0.25, color='blue')\n",
    "\n",
    "plt.plot(train_sizes, test_mean, 'gs--', markersize=5, label='validation '+ scoring)\n",
    "plt.fill_between(train_sizes, test_mean + test_std,  test_mean - test_std,   alpha=0.15, color='green')\n",
    "\n",
    "plt.grid()\n",
    "plt.xlabel('Number of training samples', fontsize=14)\n",
    "plt.ylabel(scoring, fontsize=14)\n",
    "plt.legend(loc='best', fontsize=14)\n",
    "# plt.savefig('learning_curve', dpi=300)\n",
    "plt.show()"
   ]
  },
  {
   "cell_type": "code",
   "execution_count": null,
   "metadata": {},
   "outputs": [],
   "source": [
    "# We can see the curve converge. Hence model will not benefit by collecting more data. "
   ]
  }
 ],
 "metadata": {
  "kernelspec": {
   "display_name": "Python 3",
   "language": "python",
   "name": "python3"
  },
  "language_info": {
   "codemirror_mode": {
    "name": "ipython",
    "version": 3
   },
   "file_extension": ".py",
   "mimetype": "text/x-python",
   "name": "python",
   "nbconvert_exporter": "python",
   "pygments_lexer": "ipython3",
   "version": "3.7.4"
  }
 },
 "nbformat": 4,
 "nbformat_minor": 2
}
